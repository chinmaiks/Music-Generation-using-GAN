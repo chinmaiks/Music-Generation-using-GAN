{
 "cells": [
  {
   "cell_type": "markdown",
   "metadata": {
    "colab_type": "text",
    "id": "zRv0hkv8JpBq"
   },
   "source": [
    "\n",
    "# Imports"
   ]
  },
  {
   "cell_type": "code",
   "execution_count": 1,
   "metadata": {
    "colab": {
     "base_uri": "https://localhost:8080/",
     "height": 81
    },
    "colab_type": "code",
    "id": "8vRaoDxLHFYV",
    "outputId": "11e57b07-06b5-4469-be72-af17beb3ed9c"
   },
   "outputs": [
    {
     "name": "stderr",
     "output_type": "stream",
     "text": [
      "Using TensorFlow backend.\n"
     ]
    }
   ],
   "source": [
    "import os\n",
    "import pickle\n",
    "\n",
    "from music21 import *\n",
    "from music21 import converter, instrument, note, chord\n",
    "\n",
    "from keras.utils import np_utils\n",
    "from keras.callbacks import ModelCheckpoint\n",
    "\n",
    "import numpy as np"
   ]
  },
  {
   "cell_type": "markdown",
   "metadata": {
    "colab_type": "text",
    "id": "PNIW2G2sJsER"
   },
   "source": [
    "# Data Path definition"
   ]
  },
  {
   "cell_type": "code",
   "execution_count": 2,
   "metadata": {
    "colab": {},
    "colab_type": "code",
    "id": "Msxv-0tOHfgz"
   },
   "outputs": [],
   "source": [
    "base_path = \"Project/\"\n",
    "training_path = \"data/Training/\"\n",
    "\n",
    "preprocessed_file_path = \"data/Preprocessed/\"\n",
    "\n",
    "output_base_path = \"output/\"\n",
    "baseline_model_result = \"baseline_model_result/\"\n",
    "\n",
    "base_model_path = \"models/\"\n",
    "\n",
    "os.makedirs(base_path + preprocessed_file_path, exist_ok=True)\n",
    "\n",
    "os.makedirs(base_path + output_base_path, exist_ok=True)\n",
    "os.makedirs(base_path + output_base_path + baseline_model_result, exist_ok=True)\n",
    "\n",
    "os.makedirs(base_path + base_model_path, exist_ok=True)\n",
    "os.makedirs(base_path + base_model_path + baseline_model_result, exist_ok=True)"
   ]
  },
  {
   "cell_type": "markdown",
   "metadata": {
    "colab_type": "text",
    "id": "2Doi_J9zNCxU"
   },
   "source": [
    "# Extracting training files from Google Drive"
   ]
  },
  {
   "cell_type": "code",
   "execution_count": 3,
   "metadata": {
    "colab": {
     "base_uri": "https://localhost:8080/",
     "height": 34
    },
    "colab_type": "code",
    "id": "GF9-mUNfJ9Op",
    "outputId": "8dfd3140-ee5e-4544-85a3-5b8d20b71a27"
   },
   "outputs": [
    {
     "data": {
      "text/plain": [
       "307"
      ]
     },
     "execution_count": 3,
     "metadata": {},
     "output_type": "execute_result"
    }
   ],
   "source": [
    "training_files = [file for file in os.listdir(base_path + training_path) if file.endswith(\".mid\")]\n",
    "training_files = [base_path + training_path + file_name for file_name in training_files]\n",
    "len(training_files)"
   ]
  },
  {
   "cell_type": "markdown",
   "metadata": {
    "colab_type": "text",
    "id": "lOd0_2q4NLxs"
   },
   "source": [
    "# Preprocessing MIDI Files"
   ]
  },
  {
   "cell_type": "code",
   "execution_count": 4,
   "metadata": {
    "colab": {
     "base_uri": "https://localhost:8080/",
     "height": 121
    },
    "colab_type": "code",
    "id": "gv1Dsak8Ls3t",
    "outputId": "07a37df9-6b36-40d7-bb01-fb962b072758"
   },
   "outputs": [
    {
     "name": "stdout",
     "output_type": "stream",
     "text": [
      "Parsing C:/Users/chinm/Documents/Courses/Sem3/NN/Project/projectf_final_zip/projectf/data/Training/Pokemon - Farewell, Pikachu!.mid\n",
      "Parsing C:/Users/chinm/Documents/Courses/Sem3/NN/Project/projectf_final_zip/projectf/data/Training/Pokemon - Lavender town.mid\n",
      "Parsing C:/Users/chinm/Documents/Courses/Sem3/NN/Project/projectf_final_zip/projectf/data/Training/Pokemon - Littleroot Town.mid\n",
      "Parsing C:/Users/chinm/Documents/Courses/Sem3/NN/Project/projectf_final_zip/projectf/data/Training/Pokemon - Lugias Song.mid\n",
      "Parsing C:/Users/chinm/Documents/Courses/Sem3/NN/Project/projectf_final_zip/projectf/data/Training/Pokemon - Oracion.mid\n",
      "Parsing C:/Users/chinm/Documents/Courses/Sem3/NN/Project/projectf_final_zip/projectf/data/Training/Pokemon - Pallet Town.mid\n",
      "Parsing C:/Users/chinm/Documents/Courses/Sem3/NN/Project/projectf_final_zip/projectf/data/Training/Pokemon - Pkmn Elite 4.mid\n",
      "Parsing C:/Users/chinm/Documents/Courses/Sem3/NN/Project/projectf_final_zip/projectf/data/Training/Pokemon - pokecentre theme.mid\n",
      "Parsing C:/Users/chinm/Documents/Courses/Sem3/NN/Project/projectf_final_zip/projectf/data/Training/Pokemon - Pokemon Center Theme.mid\n",
      "Parsing C:/Users/chinm/Documents/Courses/Sem3/NN/Project/projectf_final_zip/projectf/data/Training/Pokemon - Pokemon Center.mid\n",
      "Parsing C:/Users/chinm/Documents/Courses/Sem3/NN/Project/projectf_final_zip/projectf/data/Training/Pokemon - Pokemon Johto - Opening.mid\n",
      "Parsing C:/Users/chinm/Documents/Courses/Sem3/NN/Project/projectf_final_zip/projectf/data/Training/Pokemon - The Ghost at Maiden's Peak.mid\n",
      "Parsing C:/Users/chinm/Documents/Courses/Sem3/NN/Project/projectf_final_zip/projectf/data/Training/Pokemon Black & White - Village Bridge.mid\n",
      "Parsing C:/Users/chinm/Documents/Courses/Sem3/NN/Project/projectf_final_zip/projectf/data/Training/Pokemon Black 2White 2 - Cave of Being.mid\n",
      "Parsing C:/Users/chinm/Documents/Courses/Sem3/NN/Project/projectf_final_zip/projectf/data/Training/Pokemon Black 2White 2 - Join Avenue  Greeting.mid\n",
      "Parsing C:/Users/chinm/Documents/Courses/Sem3/NN/Project/projectf_final_zip/projectf/data/Training/Pokemon Black 2White 2 - Ns Room.mid\n",
      "Parsing C:/Users/chinm/Documents/Courses/Sem3/NN/Project/projectf_final_zip/projectf/data/Training/Pokemon Black 2White 2 - Ns Theme.mid\n",
      "Parsing C:/Users/chinm/Documents/Courses/Sem3/NN/Project/projectf_final_zip/projectf/data/Training/Pokemon Black 2White 2 - THE END.mid\n",
      "Parsing C:/Users/chinm/Documents/Courses/Sem3/NN/Project/projectf_final_zip/projectf/data/Training/Pokemon BlackWhite - Accumula Town.mid\n",
      "Parsing C:/Users/chinm/Documents/Courses/Sem3/NN/Project/projectf_final_zip/projectf/data/Training/Pokemon BlackWhite - An Unwavering Heart.mid\n",
      "Parsing C:/Users/chinm/Documents/Courses/Sem3/NN/Project/projectf_final_zip/projectf/data/Training/Pokemon BlackWhite - Battle CherenBianca.mid\n",
      "Parsing C:/Users/chinm/Documents/Courses/Sem3/NN/Project/projectf_final_zip/projectf/data/Training/Pokemon BlackWhite - Battle Elite Four.mid\n",
      "Parsing C:/Users/chinm/Documents/Courses/Sem3/NN/Project/projectf_final_zip/projectf/data/Training/Pokemon BlackWhite - Battle Legendary Pokemon.mid\n",
      "Parsing C:/Users/chinm/Documents/Courses/Sem3/NN/Project/projectf_final_zip/projectf/data/Training/Pokemon BlackWhite - Battle Team Plasma.mid\n",
      "Parsing C:/Users/chinm/Documents/Courses/Sem3/NN/Project/projectf_final_zip/projectf/data/Training/Pokemon BlackWhite - Battle Wild Pokemon.mid\n",
      "Parsing C:/Users/chinm/Documents/Courses/Sem3/NN/Project/projectf_final_zip/projectf/data/Training/Pokemon BlackWhite - Bicycle.mid\n",
      "Parsing C:/Users/chinm/Documents/Courses/Sem3/NN/Project/projectf_final_zip/projectf/data/Training/Pokemon BlackWhite - Castelia City.mid\n",
      "Parsing C:/Users/chinm/Documents/Courses/Sem3/NN/Project/projectf_final_zip/projectf/data/Training/Pokemon BlackWhite - Champion Alder.mid\n",
      "Parsing C:/Users/chinm/Documents/Courses/Sem3/NN/Project/projectf_final_zip/projectf/data/Training/Pokemon BlackWhite - Crisis in Battle.mid\n",
      "Parsing C:/Users/chinm/Documents/Courses/Sem3/NN/Project/projectf_final_zip/projectf/data/Training/Pokemon BlackWhite - Dragonspiral Tower.mid\n",
      "Parsing C:/Users/chinm/Documents/Courses/Sem3/NN/Project/projectf_final_zip/projectf/data/Training/Pokemon BlackWhite - Driftveil City.mid\n",
      "Parsing C:/Users/chinm/Documents/Courses/Sem3/NN/Project/projectf_final_zip/projectf/data/Training/Pokemon BlackWhite - Ending Onward to Our Own Futures.mid\n",
      "Parsing C:/Users/chinm/Documents/Courses/Sem3/NN/Project/projectf_final_zip/projectf/data/Training/Pokemon BlackWhite - Icirrus City.mid\n",
      "Parsing C:/Users/chinm/Documents/Courses/Sem3/NN/Project/projectf_final_zip/projectf/data/Training/Pokemon BlackWhite - Lacunosa Town.mid\n",
      "Parsing C:/Users/chinm/Documents/Courses/Sem3/NN/Project/projectf_final_zip/projectf/data/Training/Pokemon BlackWhite - Mistralton City.mid\n",
      "Parsing C:/Users/chinm/Documents/Courses/Sem3/NN/Project/projectf_final_zip/projectf/data/Training/Pokemon BlackWhite - Musical Hall.mid\n",
      "Parsing C:/Users/chinm/Documents/Courses/Sem3/NN/Project/projectf_final_zip/projectf/data/Training/Pokemon BlackWhite - N the Pokemon Child.mid\n",
      "Parsing C:/Users/chinm/Documents/Courses/Sem3/NN/Project/projectf_final_zip/projectf/data/Training/Pokemon BlackWhite - Nacrene City.mid\n",
      "Parsing C:/Users/chinm/Documents/Courses/Sem3/NN/Project/projectf_final_zip/projectf/data/Training/Pokemon BlackWhite - Ns Castle.mid\n",
      "Parsing C:/Users/chinm/Documents/Courses/Sem3/NN/Project/projectf_final_zip/projectf/data/Training/Pokemon BlackWhite - Ns Farewell.mid\n",
      "Parsing C:/Users/chinm/Documents/Courses/Sem3/NN/Project/projectf_final_zip/projectf/data/Training/Pokemon BlackWhite - Nuvema Town.mid\n",
      "Parsing C:/Users/chinm/Documents/Courses/Sem3/NN/Project/projectf_final_zip/projectf/data/Training/Pokemon BlackWhite - Opelucid City White.mid\n",
      "Parsing C:/Users/chinm/Documents/Courses/Sem3/NN/Project/projectf_final_zip/projectf/data/Training/Pokemon BlackWhite - Pokemon League.mid\n",
      "Parsing C:/Users/chinm/Documents/Courses/Sem3/NN/Project/projectf_final_zip/projectf/data/Training/Pokemon BlackWhite - Relic Song.mid\n",
      "Parsing C:/Users/chinm/Documents/Courses/Sem3/NN/Project/projectf_final_zip/projectf/data/Training/Pokemon BlackWhite - Route 10.mid\n",
      "Parsing C:/Users/chinm/Documents/Courses/Sem3/NN/Project/projectf_final_zip/projectf/data/Training/Pokemon BlackWhite - Route 3.mid\n",
      "Parsing C:/Users/chinm/Documents/Courses/Sem3/NN/Project/projectf_final_zip/projectf/data/Training/Pokemon BlackWhite - Route 4.mid\n",
      "Parsing C:/Users/chinm/Documents/Courses/Sem3/NN/Project/projectf_final_zip/projectf/data/Training/Pokemon BlackWhite - Route 6.mid\n",
      "Parsing C:/Users/chinm/Documents/Courses/Sem3/NN/Project/projectf_final_zip/projectf/data/Training/Pokemon BlackWhite - Skyarrow Bridge.mid\n",
      "Parsing C:/Users/chinm/Documents/Courses/Sem3/NN/Project/projectf_final_zip/projectf/data/Training/Pokemon BlackWhite - Striaton City.mid\n",
      "Parsing C:/Users/chinm/Documents/Courses/Sem3/NN/Project/projectf_final_zip/projectf/data/Training/Pokemon BlackWhite - Surfing.mid\n",
      "Parsing C:/Users/chinm/Documents/Courses/Sem3/NN/Project/projectf_final_zip/projectf/data/Training/Pokemon BlackWhite - Undella Town FallWinterSpring.mid\n",
      "Parsing C:/Users/chinm/Documents/Courses/Sem3/NN/Project/projectf_final_zip/projectf/data/Training/Pokemon BlackWhite - Undella Town Summer.mid\n",
      "Parsing C:/Users/chinm/Documents/Courses/Sem3/NN/Project/projectf_final_zip/projectf/data/Training/Pokemon BlackWhite - Village Bridge.mid\n",
      "Parsing C:/Users/chinm/Documents/Courses/Sem3/NN/Project/projectf_final_zip/projectf/data/Training/Pokemon BlackWhite - White Forest.mid\n",
      "Parsing C:/Users/chinm/Documents/Courses/Sem3/NN/Project/projectf_final_zip/projectf/data/Training/Pokemon Channel - Pokepad.mid\n",
      "Parsing C:/Users/chinm/Documents/Courses/Sem3/NN/Project/projectf_final_zip/projectf/data/Training/Pokemon Colosseum - Miror B Battle.mid\n",
      "Parsing C:/Users/chinm/Documents/Courses/Sem3/NN/Project/projectf_final_zip/projectf/data/Training/Pokemon Colosseum - Outskirt Stand.mid\n",
      "Parsing C:/Users/chinm/Documents/Courses/Sem3/NN/Project/projectf_final_zip/projectf/data/Training/Pokemon Colosseum - Pyrite Town.mid\n",
      "Parsing C:/Users/chinm/Documents/Courses/Sem3/NN/Project/projectf_final_zip/projectf/data/Training/Pokemon Colosseum - Relic Forest in Danger.mid\n"
     ]
    },
    {
     "name": "stdout",
     "output_type": "stream",
     "text": [
      "Parsing C:/Users/chinm/Documents/Courses/Sem3/NN/Project/projectf_final_zip/projectf/data/Training/Pokemon Colosseum - Relic Forest.mid\n",
      "Parsing C:/Users/chinm/Documents/Courses/Sem3/NN/Project/projectf_final_zip/projectf/data/Training/Pokemon Colosseum - Semifinal Battle.mid\n",
      "Parsing C:/Users/chinm/Documents/Courses/Sem3/NN/Project/projectf_final_zip/projectf/data/Training/Pokemon Colosseum - The Under.mid\n",
      "Parsing C:/Users/chinm/Documents/Courses/Sem3/NN/Project/projectf_final_zip/projectf/data/Training/Pokemon DiamondPearlPlatinum - Approaching Champion Cynthia.mid\n",
      "Parsing C:/Users/chinm/Documents/Courses/Sem3/NN/Project/projectf_final_zip/projectf/data/Training/Pokemon DiamondPearlPlatinum - Azelf Mesprit and Uxie Battle.mid\n",
      "Parsing C:/Users/chinm/Documents/Courses/Sem3/NN/Project/projectf_final_zip/projectf/data/Training/Pokemon DiamondPearlPlatinum - Battle Champion.mid\n",
      "Parsing C:/Users/chinm/Documents/Courses/Sem3/NN/Project/projectf_final_zip/projectf/data/Training/Pokemon DiamondPearlPlatinum - Battle Rival.mid\n",
      "Parsing C:/Users/chinm/Documents/Courses/Sem3/NN/Project/projectf_final_zip/projectf/data/Training/Pokemon DiamondPearlPlatinum - Battle Team Galactic Admin.mid\n",
      "Parsing C:/Users/chinm/Documents/Courses/Sem3/NN/Project/projectf_final_zip/projectf/data/Training/Pokemon DiamondPearlPlatinum - Battle Trainer.mid\n",
      "Parsing C:/Users/chinm/Documents/Courses/Sem3/NN/Project/projectf_final_zip/projectf/data/Training/Pokemon DiamondPearlPlatinum - Battle Wild Pokemon.mid\n",
      "Parsing C:/Users/chinm/Documents/Courses/Sem3/NN/Project/projectf_final_zip/projectf/data/Training/Pokemon DiamondPearlPlatinum - Canalave City.mid\n",
      "Parsing C:/Users/chinm/Documents/Courses/Sem3/NN/Project/projectf_final_zip/projectf/data/Training/Pokemon DiamondPearlPlatinum - Cyrus  Team Galactic Boss Battle.mid\n",
      "Parsing C:/Users/chinm/Documents/Courses/Sem3/NN/Project/projectf_final_zip/projectf/data/Training/Pokemon DiamondPearlPlatinum - DialgaPalkia Appear.mid\n",
      "Parsing C:/Users/chinm/Documents/Courses/Sem3/NN/Project/projectf_final_zip/projectf/data/Training/Pokemon DiamondPearlPlatinum - Elite Four Battle.mid\n",
      "Parsing C:/Users/chinm/Documents/Courses/Sem3/NN/Project/projectf_final_zip/projectf/data/Training/Pokemon DiamondPearlPlatinum - Eterna City.mid\n",
      "Parsing C:/Users/chinm/Documents/Courses/Sem3/NN/Project/projectf_final_zip/projectf/data/Training/Pokemon DiamondPearlPlatinum - Floaroma Town.mid\n",
      "Parsing C:/Users/chinm/Documents/Courses/Sem3/NN/Project/projectf_final_zip/projectf/data/Training/Pokemon DiamondPearlPlatinum - Game Corner.mid\n",
      "Parsing C:/Users/chinm/Documents/Courses/Sem3/NN/Project/projectf_final_zip/projectf/data/Training/Pokemon DiamondPearlPlatinum - Hearthome City.mid\n",
      "Parsing C:/Users/chinm/Documents/Courses/Sem3/NN/Project/projectf_final_zip/projectf/data/Training/Pokemon DiamondPearlPlatinum - Jubilife City Day.mid\n",
      "Parsing C:/Users/chinm/Documents/Courses/Sem3/NN/Project/projectf_final_zip/projectf/data/Training/Pokemon DiamondPearlPlatinum - Lake Caverns.mid\n",
      "Parsing C:/Users/chinm/Documents/Courses/Sem3/NN/Project/projectf_final_zip/projectf/data/Training/Pokemon DiamondPearlPlatinum - Mt Coronet.mid\n",
      "Parsing C:/Users/chinm/Documents/Courses/Sem3/NN/Project/projectf_final_zip/projectf/data/Training/Pokemon DiamondPearlPlatinum - Mystery Gift.mid\n",
      "Parsing C:/Users/chinm/Documents/Courses/Sem3/NN/Project/projectf_final_zip/projectf/data/Training/Pokemon DiamondPearlPlatinum - Old Chateau.mid\n",
      "Parsing C:/Users/chinm/Documents/Courses/Sem3/NN/Project/projectf_final_zip/projectf/data/Training/Pokemon DiamondPearlPlatinum - Pokemon League Day.mid\n",
      "Parsing C:/Users/chinm/Documents/Courses/Sem3/NN/Project/projectf_final_zip/projectf/data/Training/Pokemon DiamondPearlPlatinum - Poketch Addition.mid\n",
      "Parsing C:/Users/chinm/Documents/Courses/Sem3/NN/Project/projectf_final_zip/projectf/data/Training/Pokemon DiamondPearlPlatinum - Research Lab.mid\n",
      "Parsing C:/Users/chinm/Documents/Courses/Sem3/NN/Project/projectf_final_zip/projectf/data/Training/Pokemon DiamondPearlPlatinum - Route 202.mid\n",
      "Parsing C:/Users/chinm/Documents/Courses/Sem3/NN/Project/projectf_final_zip/projectf/data/Training/Pokemon DiamondPearlPlatinum - Route 205 Night.mid\n",
      "Parsing C:/Users/chinm/Documents/Courses/Sem3/NN/Project/projectf_final_zip/projectf/data/Training/Pokemon DiamondPearlPlatinum - Route 205.mid\n",
      "Parsing C:/Users/chinm/Documents/Courses/Sem3/NN/Project/projectf_final_zip/projectf/data/Training/Pokemon DiamondPearlPlatinum - Route 209.mid\n",
      "Parsing C:/Users/chinm/Documents/Courses/Sem3/NN/Project/projectf_final_zip/projectf/data/Training/Pokemon DiamondPearlPlatinum - Route 225 Night.mid\n",
      "Parsing C:/Users/chinm/Documents/Courses/Sem3/NN/Project/projectf_final_zip/projectf/data/Training/Pokemon DiamondPearlPlatinum - Route 228 Night.mid\n",
      "Parsing C:/Users/chinm/Documents/Courses/Sem3/NN/Project/projectf_final_zip/projectf/data/Training/Pokemon DiamondPearlPlatinum - Sandgem Town Day.mid\n",
      "Parsing C:/Users/chinm/Documents/Courses/Sem3/NN/Project/projectf_final_zip/projectf/data/Training/Pokemon DiamondPearlPlatinum - Spear Pillar.mid\n",
      "Parsing C:/Users/chinm/Documents/Courses/Sem3/NN/Project/projectf_final_zip/projectf/data/Training/Pokemon DiamondPearlPlatinum - Stark Mountain.mid\n",
      "Parsing C:/Users/chinm/Documents/Courses/Sem3/NN/Project/projectf_final_zip/projectf/data/Training/Pokemon DiamondPearlPlatinum - Team Galactic Grunt Battle.mid\n",
      "Parsing C:/Users/chinm/Documents/Courses/Sem3/NN/Project/projectf_final_zip/projectf/data/Training/Pokemon DiamondPearlPlatinum - Torn WorldDistortion World.mid\n",
      "Parsing C:/Users/chinm/Documents/Courses/Sem3/NN/Project/projectf_final_zip/projectf/data/Training/Pokemon DiamondPearlPlatinum - Twinleaf Town Day.mid\n",
      "Parsing C:/Users/chinm/Documents/Courses/Sem3/NN/Project/projectf_final_zip/projectf/data/Training/Pokemon DiamondPearlPlatinum - Veilstone City.mid\n",
      "Parsing C:/Users/chinm/Documents/Courses/Sem3/NN/Project/projectf_final_zip/projectf/data/Training/Pokemon DiamondPearlPlatinum - Villa  Twinleaf Music Box.mid\n",
      "Parsing C:/Users/chinm/Documents/Courses/Sem3/NN/Project/projectf_final_zip/projectf/data/Training/Pokemon DiamondPearlPlatinum - WiFi Lobby.mid\n",
      "Parsing C:/Users/chinm/Documents/Courses/Sem3/NN/Project/projectf_final_zip/projectf/data/Training/Pokemon Gold, Silver, Crystal - Cinnabar Island (HGSS Version).mid\n",
      "Parsing C:/Users/chinm/Documents/Courses/Sem3/NN/Project/projectf_final_zip/projectf/data/Training/Pokemon Gold, Silver, Crystal - S.S. Aqua .mid\n",
      "Parsing C:/Users/chinm/Documents/Courses/Sem3/NN/Project/projectf_final_zip/projectf/data/Training/Pokemon GoldSilverCrystal - Azalea TownBlackthorn City.mid\n",
      "Parsing C:/Users/chinm/Documents/Courses/Sem3/NN/Project/projectf_final_zip/projectf/data/Training/Pokemon GoldSilverCrystal - Bicycle.mid\n",
      "Parsing C:/Users/chinm/Documents/Courses/Sem3/NN/Project/projectf_final_zip/projectf/data/Training/Pokemon GoldSilverCrystal - Bug Catching Contest.mid\n",
      "Parsing C:/Users/chinm/Documents/Courses/Sem3/NN/Project/projectf_final_zip/projectf/data/Training/Pokemon GoldSilverCrystal - Burned Tower.mid\n",
      "Parsing C:/Users/chinm/Documents/Courses/Sem3/NN/Project/projectf_final_zip/projectf/data/Training/Pokemon GoldSilverCrystal - Champion Battle.mid\n",
      "Parsing C:/Users/chinm/Documents/Courses/Sem3/NN/Project/projectf_final_zip/projectf/data/Training/Pokemon GoldSilverCrystal - Cherrygrove CityMahogany Town.mid\n",
      "Parsing C:/Users/chinm/Documents/Courses/Sem3/NN/Project/projectf_final_zip/projectf/data/Training/Pokemon GoldSilverCrystal - Dance Theatre.mid\n",
      "Parsing C:/Users/chinm/Documents/Courses/Sem3/NN/Project/projectf_final_zip/projectf/data/Training/Pokemon GoldSilverCrystal - Dark Cave.mid\n",
      "Parsing C:/Users/chinm/Documents/Courses/Sem3/NN/Project/projectf_final_zip/projectf/data/Training/Pokemon GoldSilverCrystal - Dragons Den.mid\n",
      "Parsing C:/Users/chinm/Documents/Courses/Sem3/NN/Project/projectf_final_zip/projectf/data/Training/Pokemon GoldSilverCrystal - Ecruteak CityCianwood City.mid\n",
      "Parsing C:/Users/chinm/Documents/Courses/Sem3/NN/Project/projectf_final_zip/projectf/data/Training/Pokemon GoldSilverCrystal - Girl Trainer Confrontation.mid\n",
      "Parsing C:/Users/chinm/Documents/Courses/Sem3/NN/Project/projectf_final_zip/projectf/data/Training/Pokemon GoldSilverCrystal - Goldenrod City.mid\n"
     ]
    },
    {
     "name": "stdout",
     "output_type": "stream",
     "text": [
      "Parsing C:/Users/chinm/Documents/Courses/Sem3/NN/Project/projectf_final_zip/projectf/data/Training/Pokemon GoldSilverCrystal - Gym Leader Defeated.mid\n",
      "Parsing C:/Users/chinm/Documents/Courses/Sem3/NN/Project/projectf_final_zip/projectf/data/Training/Pokemon GoldSilverCrystal - Gym.mid\n",
      "Parsing C:/Users/chinm/Documents/Courses/Sem3/NN/Project/projectf_final_zip/projectf/data/Training/Pokemon GoldSilverCrystal - Indigo Plateau.mid\n",
      "Parsing C:/Users/chinm/Documents/Courses/Sem3/NN/Project/projectf_final_zip/projectf/data/Training/Pokemon GoldSilverCrystal - Johto Gym Leader Battle.mid\n",
      "Parsing C:/Users/chinm/Documents/Courses/Sem3/NN/Project/projectf_final_zip/projectf/data/Training/Pokemon GoldSilverCrystal - Johto Wild Pokemon Battle.mid\n",
      "Parsing C:/Users/chinm/Documents/Courses/Sem3/NN/Project/projectf_final_zip/projectf/data/Training/Pokemon GoldSilverCrystal - Kanto Gym Leader Battle.mid\n",
      "Parsing C:/Users/chinm/Documents/Courses/Sem3/NN/Project/projectf_final_zip/projectf/data/Training/Pokemon GoldSilverCrystal - Lavender Town.mid\n",
      "Parsing C:/Users/chinm/Documents/Courses/Sem3/NN/Project/projectf_final_zip/projectf/data/Training/Pokemon GoldSilverCrystal - Menu.mid\n",
      "Parsing C:/Users/chinm/Documents/Courses/Sem3/NN/Project/projectf_final_zip/projectf/data/Training/Pokemon GoldSilverCrystal - National Park.mid\n",
      "Parsing C:/Users/chinm/Documents/Courses/Sem3/NN/Project/projectf_final_zip/projectf/data/Training/Pokemon GoldSilverCrystal - New Bark Town.mid\n",
      "Parsing C:/Users/chinm/Documents/Courses/Sem3/NN/Project/projectf_final_zip/projectf/data/Training/Pokemon GoldSilverCrystal - Olivine Lighthouse.mid\n",
      "Parsing C:/Users/chinm/Documents/Courses/Sem3/NN/Project/projectf_final_zip/projectf/data/Training/Pokemon GoldSilverCrystal - Pokemon Lullaby.mid\n",
      "Parsing C:/Users/chinm/Documents/Courses/Sem3/NN/Project/projectf_final_zip/projectf/data/Training/Pokemon GoldSilverCrystal - Pokemon March.mid\n",
      "Parsing C:/Users/chinm/Documents/Courses/Sem3/NN/Project/projectf_final_zip/projectf/data/Training/Pokemon GoldSilverCrystal - Professor Elms Lab.mid\n",
      "Parsing C:/Users/chinm/Documents/Courses/Sem3/NN/Project/projectf_final_zip/projectf/data/Training/Pokemon GoldSilverCrystal - Professor Oaks Theme.mid\n",
      "Parsing C:/Users/chinm/Documents/Courses/Sem3/NN/Project/projectf_final_zip/projectf/data/Training/Pokemon GoldSilverCrystal - Rival Battle.mid\n",
      "Parsing C:/Users/chinm/Documents/Courses/Sem3/NN/Project/projectf_final_zip/projectf/data/Training/Pokemon GoldSilverCrystal - Route 27.mid\n",
      "Parsing C:/Users/chinm/Documents/Courses/Sem3/NN/Project/projectf_final_zip/projectf/data/Training/Pokemon GoldSilverCrystal - Route 29.mid\n",
      "Parsing C:/Users/chinm/Documents/Courses/Sem3/NN/Project/projectf_final_zip/projectf/data/Training/Pokemon GoldSilverCrystal - Route 32.mid\n",
      "Parsing C:/Users/chinm/Documents/Courses/Sem3/NN/Project/projectf_final_zip/projectf/data/Training/Pokemon GoldSilverCrystal - Route 38.mid\n",
      "Parsing C:/Users/chinm/Documents/Courses/Sem3/NN/Project/projectf_final_zip/projectf/data/Training/Pokemon GoldSilverCrystal - Route 42.mid\n",
      "Parsing C:/Users/chinm/Documents/Courses/Sem3/NN/Project/projectf_final_zip/projectf/data/Training/Pokemon GoldSilverCrystal - Saffron City.mid\n",
      "Parsing C:/Users/chinm/Documents/Courses/Sem3/NN/Project/projectf_final_zip/projectf/data/Training/Pokemon GoldSilverCrystal - Show Me Around.mid\n",
      "Parsing C:/Users/chinm/Documents/Courses/Sem3/NN/Project/projectf_final_zip/projectf/data/Training/Pokemon GoldSilverCrystal - Sprout Tower.mid\n",
      "Parsing C:/Users/chinm/Documents/Courses/Sem3/NN/Project/projectf_final_zip/projectf/data/Training/Pokemon GoldSilverCrystal - Staff Credits.mid\n",
      "Parsing C:/Users/chinm/Documents/Courses/Sem3/NN/Project/projectf_final_zip/projectf/data/Training/Pokemon GoldSilverCrystal - Surf.mid\n",
      "Parsing C:/Users/chinm/Documents/Courses/Sem3/NN/Project/projectf_final_zip/projectf/data/Training/Pokemon GoldSilverCrystal - Team RocketRadio Tower Takeover.mid\n",
      "Parsing C:/Users/chinm/Documents/Courses/Sem3/NN/Project/projectf_final_zip/projectf/data/Training/Pokemon GoldSilverCrystal - Tin Tower.mid\n",
      "Parsing C:/Users/chinm/Documents/Courses/Sem3/NN/Project/projectf_final_zip/projectf/data/Training/Pokemon GoldSilverCrystal - Title.mid\n",
      "Parsing C:/Users/chinm/Documents/Courses/Sem3/NN/Project/projectf_final_zip/projectf/data/Training/Pokemon GoldSilverCrystal - Union Cave.mid\n",
      "Parsing C:/Users/chinm/Documents/Courses/Sem3/NN/Project/projectf_final_zip/projectf/data/Training/Pokemon GoldSilverCrystal - Victory Road.mid\n",
      "Parsing C:/Users/chinm/Documents/Courses/Sem3/NN/Project/projectf_final_zip/projectf/data/Training/Pokemon GoldSilverCrystal - Violet CityOlivine City.mid\n",
      "Parsing C:/Users/chinm/Documents/Courses/Sem3/NN/Project/projectf_final_zip/projectf/data/Training/Pokemon HeartGoldSoulSilver - Cerulean City.mid\n",
      "Parsing C:/Users/chinm/Documents/Courses/Sem3/NN/Project/projectf_final_zip/projectf/data/Training/Pokemon HeartGoldSoulSilver - Cinnabar Island.mid\n",
      "Parsing C:/Users/chinm/Documents/Courses/Sem3/NN/Project/projectf_final_zip/projectf/data/Training/Pokemon HeartGoldSoulSilver - Game Corner.mid\n",
      "Parsing C:/Users/chinm/Documents/Courses/Sem3/NN/Project/projectf_final_zip/projectf/data/Training/Pokemon HeartGoldSoulSilver - Indigo Plateau.mid\n",
      "Parsing C:/Users/chinm/Documents/Courses/Sem3/NN/Project/projectf_final_zip/projectf/data/Training/Pokemon HeartGoldSoulSilver - Instructions.mid\n",
      "Parsing C:/Users/chinm/Documents/Courses/Sem3/NN/Project/projectf_final_zip/projectf/data/Training/Pokemon HeartGoldSoulSilver - Lyras Theme.mid\n",
      "Parsing C:/Users/chinm/Documents/Courses/Sem3/NN/Project/projectf_final_zip/projectf/data/Training/Pokemon HeartGoldSoulSilver - New Bark Town.mid\n",
      "Parsing C:/Users/chinm/Documents/Courses/Sem3/NN/Project/projectf_final_zip/projectf/data/Training/Pokemon HeartGoldSoulSilver - Pokemaniac Encounter.mid\n",
      "Parsing C:/Users/chinm/Documents/Courses/Sem3/NN/Project/projectf_final_zip/projectf/data/Training/Pokemon HeartGoldSoulSilver - Pokemon Center.mid\n",
      "Parsing C:/Users/chinm/Documents/Courses/Sem3/NN/Project/projectf_final_zip/projectf/data/Training/Pokemon HeartGoldSoulSilver - PokeWalker Synchronisation.mid\n",
      "Parsing C:/Users/chinm/Documents/Courses/Sem3/NN/Project/projectf_final_zip/projectf/data/Training/Pokemon HeartGoldSoulSilver - Route 4748.mid\n",
      "Parsing C:/Users/chinm/Documents/Courses/Sem3/NN/Project/projectf_final_zip/projectf/data/Training/Pokemon HeartGoldSoulSilver - Safari Zone Gate.mid\n",
      "Parsing C:/Users/chinm/Documents/Courses/Sem3/NN/Project/projectf_final_zip/projectf/data/Training/Pokemon HeartGoldSoulSilver - Team Rocket Hideout.mid\n",
      "Parsing C:/Users/chinm/Documents/Courses/Sem3/NN/Project/projectf_final_zip/projectf/data/Training/Pokemon HeartGoldSoulSilver - Title.mid\n",
      "Parsing C:/Users/chinm/Documents/Courses/Sem3/NN/Project/projectf_final_zip/projectf/data/Training/Pokemon HeartGoldSoulSilver - Viridian Forest.mid\n",
      "Parsing C:/Users/chinm/Documents/Courses/Sem3/NN/Project/projectf_final_zip/projectf/data/Training/Pokemon Mystery Dungeon - Red Rescue Team - Pokemon Square.mid\n",
      "Parsing C:/Users/chinm/Documents/Courses/Sem3/NN/Project/projectf_final_zip/projectf/data/Training/Pokemon Mystery Dungeon BlueRed Rescue Team - Escape Through the Snow  Snow Refugees.mid\n",
      "Parsing C:/Users/chinm/Documents/Courses/Sem3/NN/Project/projectf_final_zip/projectf/data/Training/Pokemon Mystery Dungeon BlueRed Rescue Team - Friend Area  Swamp.mid\n",
      "Parsing C:/Users/chinm/Documents/Courses/Sem3/NN/Project/projectf_final_zip/projectf/data/Training/Pokemon Mystery Dungeon BlueRed Rescue Team - Great Canyon.mid\n",
      "Parsing C:/Users/chinm/Documents/Courses/Sem3/NN/Project/projectf_final_zip/projectf/data/Training/Pokemon Mystery Dungeon BlueRed Rescue Team - Monster House.mid\n",
      "Parsing C:/Users/chinm/Documents/Courses/Sem3/NN/Project/projectf_final_zip/projectf/data/Training/Pokemon Mystery Dungeon BlueRed Rescue Team - Parting.mid\n",
      "Parsing C:/Users/chinm/Documents/Courses/Sem3/NN/Project/projectf_final_zip/projectf/data/Training/Pokemon Mystery Dungeon BlueRed Rescue Team - Questionnaire.mid\n",
      "Parsing C:/Users/chinm/Documents/Courses/Sem3/NN/Project/projectf_final_zip/projectf/data/Training/Pokemon Mystery Dungeon BlueRed Rescue Team - Rescue Team Base.mid\n"
     ]
    },
    {
     "name": "stdout",
     "output_type": "stream",
     "text": [
      "Parsing C:/Users/chinm/Documents/Courses/Sem3/NN/Project/projectf_final_zip/projectf/data/Training/Pokemon Mystery Dungeon BlueRed Rescue Team - Sinister Woods.mid\n",
      "Parsing C:/Users/chinm/Documents/Courses/Sem3/NN/Project/projectf_final_zip/projectf/data/Training/Pokemon Mystery Dungeon BlueRed Rescue Team - Sky Tower.mid\n",
      "Parsing C:/Users/chinm/Documents/Courses/Sem3/NN/Project/projectf_final_zip/projectf/data/Training/Pokemon Mystery Dungeon BlueRed Rescue Team - Tiny Woods.mid\n",
      "Parsing C:/Users/chinm/Documents/Courses/Sem3/NN/Project/projectf_final_zip/projectf/data/Training/Pokemon Mystery Dungeon BlueRed Rescue Team - Title Screen.mid\n",
      "Parsing C:/Users/chinm/Documents/Courses/Sem3/NN/Project/projectf_final_zip/projectf/data/Training/Pokemon Mystery Dungeon Explorers of TimeDarknessSky - A Sinister Smell Team Skulls Theme.mid\n",
      "Parsing C:/Users/chinm/Documents/Courses/Sem3/NN/Project/projectf_final_zip/projectf/data/Training/Pokemon Mystery Dungeon Explorers of TimeDarknessSky - A Wish For Peace.mid\n",
      "Parsing C:/Users/chinm/Documents/Courses/Sem3/NN/Project/projectf_final_zip/projectf/data/Training/Pokemon Mystery Dungeon Explorers of TimeDarknessSky - Aegis Cave.mid\n",
      "Parsing C:/Users/chinm/Documents/Courses/Sem3/NN/Project/projectf_final_zip/projectf/data/Training/Pokemon Mystery Dungeon Explorers of TimeDarknessSky - Amp Plains.mid\n",
      "Parsing C:/Users/chinm/Documents/Courses/Sem3/NN/Project/projectf_final_zip/projectf/data/Training/Pokemon Mystery Dungeon Explorers of TimeDarknessSky - Apple Woods.mid\n",
      "Parsing C:/Users/chinm/Documents/Courses/Sem3/NN/Project/projectf_final_zip/projectf/data/Training/Pokemon Mystery Dungeon Explorers of TimeDarknessSky - At the End of the Day.mid\n",
      "Parsing C:/Users/chinm/Documents/Courses/Sem3/NN/Project/projectf_final_zip/projectf/data/Training/Pokemon Mystery Dungeon Explorers of TimeDarknessSky - Defend Globe.mid\n",
      "Parsing C:/Users/chinm/Documents/Courses/Sem3/NN/Project/projectf_final_zip/projectf/data/Training/Pokemon Mystery Dungeon Explorers of TimeDarknessSky - Drenched Bluff.mid\n",
      "Parsing C:/Users/chinm/Documents/Courses/Sem3/NN/Project/projectf_final_zip/projectf/data/Training/Pokemon Mystery Dungeon Explorers of TimeDarknessSky - Dusk Forest.mid\n",
      "Parsing C:/Users/chinm/Documents/Courses/Sem3/NN/Project/projectf_final_zip/projectf/data/Training/Pokemon Mystery Dungeon Explorers of TimeDarknessSky - Ending Theme.mid\n",
      "Parsing C:/Users/chinm/Documents/Courses/Sem3/NN/Project/projectf_final_zip/projectf/data/Training/Pokemon Mystery Dungeon Explorers of TimeDarknessSky - Epilogue Theme.mid\n",
      "Parsing C:/Users/chinm/Documents/Courses/Sem3/NN/Project/projectf_final_zip/projectf/data/Training/Pokemon Mystery Dungeon Explorers of TimeDarknessSky - Foggy Forest.mid\n",
      "Parsing C:/Users/chinm/Documents/Courses/Sem3/NN/Project/projectf_final_zip/projectf/data/Training/Pokemon Mystery Dungeon Explorers of TimeDarknessSky - Goodnight.mid\n",
      "Parsing C:/Users/chinm/Documents/Courses/Sem3/NN/Project/projectf_final_zip/projectf/data/Training/Pokemon Mystery Dungeon Explorers of TimeDarknessSky - Guildmaster Wigglytuff.mid\n",
      "Parsing C:/Users/chinm/Documents/Courses/Sem3/NN/Project/projectf_final_zip/projectf/data/Training/Pokemon Mystery Dungeon Explorers of TimeDarknessSky - Heartwarming.mid\n",
      "Parsing C:/Users/chinm/Documents/Courses/Sem3/NN/Project/projectf_final_zip/projectf/data/Training/Pokemon Mystery Dungeon Explorers of TimeDarknessSky - Hidden Highland.mid\n",
      "Parsing C:/Users/chinm/Documents/Courses/Sem3/NN/Project/projectf_final_zip/projectf/data/Training/Pokemon Mystery Dungeon Explorers of TimeDarknessSky - Hidden Land.mid\n",
      "Parsing C:/Users/chinm/Documents/Courses/Sem3/NN/Project/projectf_final_zip/projectf/data/Training/Pokemon Mystery Dungeon Explorers of TimeDarknessSky - I Dont Want to Say Goodbye.mid\n",
      "Parsing C:/Users/chinm/Documents/Courses/Sem3/NN/Project/projectf_final_zip/projectf/data/Training/Pokemon Mystery Dungeon Explorers of TimeDarknessSky - In the Hands of Fate.mid\n",
      "Parsing C:/Users/chinm/Documents/Courses/Sem3/NN/Project/projectf_final_zip/projectf/data/Training/Pokemon Mystery Dungeon Explorers of TimeDarknessSky - Lower Brine Cave.mid\n",
      "Parsing C:/Users/chinm/Documents/Courses/Sem3/NN/Project/projectf_final_zip/projectf/data/Training/Pokemon Mystery Dungeon Explorers of TimeDarknessSky - Oh No.mid\n",
      "Parsing C:/Users/chinm/Documents/Courses/Sem3/NN/Project/projectf_final_zip/projectf/data/Training/Pokemon Mystery Dungeon Explorers of TimeDarknessSky - Palkias Onslaught.mid\n",
      "Parsing C:/Users/chinm/Documents/Courses/Sem3/NN/Project/projectf_final_zip/projectf/data/Training/Pokemon Mystery Dungeon Explorers of TimeDarknessSky - Pelippers Island.mid\n",
      "Parsing C:/Users/chinm/Documents/Courses/Sem3/NN/Project/projectf_final_zip/projectf/data/Training/Pokemon Mystery Dungeon Explorers of TimeDarknessSky - Sealed Ruin Pit.mid\n",
      "Parsing C:/Users/chinm/Documents/Courses/Sem3/NN/Project/projectf_final_zip/projectf/data/Training/Pokemon Mystery Dungeon Explorers of TimeDarknessSky - Sky Peak Final Pass.mid\n",
      "Parsing C:/Users/chinm/Documents/Courses/Sem3/NN/Project/projectf_final_zip/projectf/data/Training/Pokemon Mystery Dungeon Explorers of TimeDarknessSky - Spacial Cliffs.mid\n",
      "Parsing C:/Users/chinm/Documents/Courses/Sem3/NN/Project/projectf_final_zip/projectf/data/Training/Pokemon Mystery Dungeon Explorers of TimeDarknessSky - Spindas Cafe.mid\n",
      "Parsing C:/Users/chinm/Documents/Courses/Sem3/NN/Project/projectf_final_zip/projectf/data/Training/Pokemon Mystery Dungeon Explorers of TimeDarknessSky - Steam Cave.mid\n",
      "Parsing C:/Users/chinm/Documents/Courses/Sem3/NN/Project/projectf_final_zip/projectf/data/Training/Pokemon Mystery Dungeon Explorers of TimeDarknessSky - Team Charms Theme.mid\n",
      "Parsing C:/Users/chinm/Documents/Courses/Sem3/NN/Project/projectf_final_zip/projectf/data/Training/Pokemon Mystery Dungeon Explorers of TimeDarknessSky - Temporal Tower.mid\n",
      "Parsing C:/Users/chinm/Documents/Courses/Sem3/NN/Project/projectf_final_zip/projectf/data/Training/Pokemon Mystery Dungeon Explorers of TimeDarknessSky - The Gatekeepers.mid\n",
      "Parsing C:/Users/chinm/Documents/Courses/Sem3/NN/Project/projectf_final_zip/projectf/data/Training/Pokemon Mystery Dungeon Explorers of TimeDarknessSky - Time Gear Remix.mid\n",
      "Parsing C:/Users/chinm/Documents/Courses/Sem3/NN/Project/projectf_final_zip/projectf/data/Training/Pokemon Mystery Dungeon Explorers of TimeDarknessSky - Title Theme.mid\n",
      "Parsing C:/Users/chinm/Documents/Courses/Sem3/NN/Project/projectf_final_zip/projectf/data/Training/Pokemon Mystery Dungeon Gates to Infinity - Desperation Light Arrangement.mid\n",
      "Parsing C:/Users/chinm/Documents/Courses/Sem3/NN/Project/projectf_final_zip/projectf/data/Training/Pokemon Mystery Dungeon Gates to Infinity - File Select.mid\n",
      "Parsing C:/Users/chinm/Documents/Courses/Sem3/NN/Project/projectf_final_zip/projectf/data/Training/Pokemon Omega RubyAlpha Sapphire - Leaders Theme Team MagmaTeam Aqua.mid\n",
      "Parsing C:/Users/chinm/Documents/Courses/Sem3/NN/Project/projectf_final_zip/projectf/data/Training/Pokemon Omega RubyAlpha Sapphire - Strains of a New Beginning Theme of rs.mid\n",
      "Parsing C:/Users/chinm/Documents/Courses/Sem3/NN/Project/projectf_final_zip/projectf/data/Training/Pokemon Omega RubyAlpha Sapphire - The Lament of Falling Stars.mid\n",
      "Parsing C:/Users/chinm/Documents/Courses/Sem3/NN/Project/projectf_final_zip/projectf/data/Training/Pokemon Omega RubyAlpha Sapphire - Trainers Eyes Meet Poke Fan.mid\n",
      "Parsing C:/Users/chinm/Documents/Courses/Sem3/NN/Project/projectf_final_zip/projectf/data/Training/Pokemon Pinball - Catch Em and Evolution Mode in Red Field.mid\n",
      "Parsing C:/Users/chinm/Documents/Courses/Sem3/NN/Project/projectf_final_zip/projectf/data/Training/Pokemon Pinball - Field Select.mid\n",
      "Parsing C:/Users/chinm/Documents/Courses/Sem3/NN/Project/projectf_final_zip/projectf/data/Training/Pokemon Pinball - Pokedex.mid\n",
      "Parsing C:/Users/chinm/Documents/Courses/Sem3/NN/Project/projectf_final_zip/projectf/data/Training/Pokemon Pinball - Red Field Theme.mid\n",
      "Parsing C:/Users/chinm/Documents/Courses/Sem3/NN/Project/projectf_final_zip/projectf/data/Training/Pokemon Ranger - Ranger Base.mid\n",
      "Parsing C:/Users/chinm/Documents/Courses/Sem3/NN/Project/projectf_final_zip/projectf/data/Training/Pokemon RedBlueYellow - Celadon City.mid\n",
      "Parsing C:/Users/chinm/Documents/Courses/Sem3/NN/Project/projectf_final_zip/projectf/data/Training/Pokemon RedBlueYellow - Cerulean City.mid\n"
     ]
    },
    {
     "name": "stdout",
     "output_type": "stream",
     "text": [
      "Parsing C:/Users/chinm/Documents/Courses/Sem3/NN/Project/projectf_final_zip/projectf/data/Training/Pokemon RedBlueYellow - Champion Battle.mid\n",
      "Parsing C:/Users/chinm/Documents/Courses/Sem3/NN/Project/projectf_final_zip/projectf/data/Training/Pokemon RedBlueYellow - Cinnabar Island.mid\n",
      "Parsing C:/Users/chinm/Documents/Courses/Sem3/NN/Project/projectf_final_zip/projectf/data/Training/Pokemon RedBlueYellow - Cycling.mid\n",
      "Parsing C:/Users/chinm/Documents/Courses/Sem3/NN/Project/projectf_final_zip/projectf/data/Training/Pokemon RedBlueYellow - Elite Four.mid\n",
      "Parsing C:/Users/chinm/Documents/Courses/Sem3/NN/Project/projectf_final_zip/projectf/data/Training/Pokemon RedBlueYellow - Ending Theme.mid\n",
      "Parsing C:/Users/chinm/Documents/Courses/Sem3/NN/Project/projectf_final_zip/projectf/data/Training/Pokemon RedBlueYellow - Evolution.mid\n",
      "Parsing C:/Users/chinm/Documents/Courses/Sem3/NN/Project/projectf_final_zip/projectf/data/Training/Pokemon RedBlueYellow - Game Corner Theme.mid\n",
      "Parsing C:/Users/chinm/Documents/Courses/Sem3/NN/Project/projectf_final_zip/projectf/data/Training/Pokemon RedBlueYellow - Gym Leader Battle.mid\n",
      "Parsing C:/Users/chinm/Documents/Courses/Sem3/NN/Project/projectf_final_zip/projectf/data/Training/Pokemon RedBlueYellow - Gym.mid\n",
      "Parsing C:/Users/chinm/Documents/Courses/Sem3/NN/Project/projectf_final_zip/projectf/data/Training/Pokemon RedBlueYellow - Hall of Fame.mid\n",
      "Parsing C:/Users/chinm/Documents/Courses/Sem3/NN/Project/projectf_final_zip/projectf/data/Training/Pokemon RedBlueYellow - Indigo Plateau.mid\n",
      "Parsing C:/Users/chinm/Documents/Courses/Sem3/NN/Project/projectf_final_zip/projectf/data/Training/Pokemon RedBlueYellow - Intro 1.mid\n",
      "Parsing C:/Users/chinm/Documents/Courses/Sem3/NN/Project/projectf_final_zip/projectf/data/Training/Pokemon RedBlueYellow - Intro 2.mid\n",
      "Parsing C:/Users/chinm/Documents/Courses/Sem3/NN/Project/projectf_final_zip/projectf/data/Training/Pokemon RedBlueYellow - Jigglypuffs Song.mid\n",
      "Parsing C:/Users/chinm/Documents/Courses/Sem3/NN/Project/projectf_final_zip/projectf/data/Training/Pokemon RedBlueYellow - Lavender Town.mid\n",
      "Parsing C:/Users/chinm/Documents/Courses/Sem3/NN/Project/projectf_final_zip/projectf/data/Training/Pokemon RedBlueYellow - Mt Moon.mid\n",
      "Parsing C:/Users/chinm/Documents/Courses/Sem3/NN/Project/projectf_final_zip/projectf/data/Training/Pokemon RedBlueYellow - Oaks Lab.mid\n",
      "Parsing C:/Users/chinm/Documents/Courses/Sem3/NN/Project/projectf_final_zip/projectf/data/Training/Pokemon RedBlueYellow - Opening Yellow.mid\n",
      "Parsing C:/Users/chinm/Documents/Courses/Sem3/NN/Project/projectf_final_zip/projectf/data/Training/Pokemon RedBlueYellow - Pallet Town.mid\n",
      "Parsing C:/Users/chinm/Documents/Courses/Sem3/NN/Project/projectf_final_zip/projectf/data/Training/Pokemon RedBlueYellow - Pokemon Center.mid\n",
      "Parsing C:/Users/chinm/Documents/Courses/Sem3/NN/Project/projectf_final_zip/projectf/data/Training/Pokemon RedBlueYellow - Pokemon Tower.mid\n",
      "Parsing C:/Users/chinm/Documents/Courses/Sem3/NN/Project/projectf_final_zip/projectf/data/Training/Pokemon RedBlueYellow - Printer Error.mid\n",
      "Parsing C:/Users/chinm/Documents/Courses/Sem3/NN/Project/projectf_final_zip/projectf/data/Training/Pokemon RedBlueYellow - Route 1.mid\n",
      "Parsing C:/Users/chinm/Documents/Courses/Sem3/NN/Project/projectf_final_zip/projectf/data/Training/Pokemon RedBlueYellow - Route 12.mid\n",
      "Parsing C:/Users/chinm/Documents/Courses/Sem3/NN/Project/projectf_final_zip/projectf/data/Training/Pokemon RedBlueYellow - Route 24.mid\n",
      "Parsing C:/Users/chinm/Documents/Courses/Sem3/NN/Project/projectf_final_zip/projectf/data/Training/Pokemon RedBlueYellow - Route 3.mid\n",
      "Parsing C:/Users/chinm/Documents/Courses/Sem3/NN/Project/projectf_final_zip/projectf/data/Training/Pokemon RedBlueYellow - Show Me Around.mid\n",
      "Parsing C:/Users/chinm/Documents/Courses/Sem3/NN/Project/projectf_final_zip/projectf/data/Training/Pokemon RedBlueYellow - Silph Co.mid\n",
      "Parsing C:/Users/chinm/Documents/Courses/Sem3/NN/Project/projectf_final_zip/projectf/data/Training/Pokemon RedBlueYellow - SS Anne.mid\n",
      "Parsing C:/Users/chinm/Documents/Courses/Sem3/NN/Project/projectf_final_zip/projectf/data/Training/Pokemon RedBlueYellow - Surf Theme.mid\n",
      "Parsing C:/Users/chinm/Documents/Courses/Sem3/NN/Project/projectf_final_zip/projectf/data/Training/Pokemon RedBlueYellow - Team Rocket Hideout.mid\n",
      "Parsing C:/Users/chinm/Documents/Courses/Sem3/NN/Project/projectf_final_zip/projectf/data/Training/Pokemon RedBlueYellow - Title Theme.mid\n",
      "Parsing C:/Users/chinm/Documents/Courses/Sem3/NN/Project/projectf_final_zip/projectf/data/Training/Pokemon RedBlueYellow - Trainer Battle.mid\n",
      "Parsing C:/Users/chinm/Documents/Courses/Sem3/NN/Project/projectf_final_zip/projectf/data/Training/Pokemon RedBlueYellow - Vermillion City.mid\n",
      "Parsing C:/Users/chinm/Documents/Courses/Sem3/NN/Project/projectf_final_zip/projectf/data/Training/Pokemon RedBlueYellow - Viridian City.mid\n",
      "Parsing C:/Users/chinm/Documents/Courses/Sem3/NN/Project/projectf_final_zip/projectf/data/Training/Pokemon RedBlueYellow - Viridian Forest.mid\n",
      "Parsing C:/Users/chinm/Documents/Courses/Sem3/NN/Project/projectf_final_zip/projectf/data/Training/Pokemon RedBlueYellow - Wild Pokemon Battle.mid\n",
      "Parsing C:/Users/chinm/Documents/Courses/Sem3/NN/Project/projectf_final_zip/projectf/data/Training/Pokemon RubySapphireEmerald - Abandoned Ship.mid\n",
      "Parsing C:/Users/chinm/Documents/Courses/Sem3/NN/Project/projectf_final_zip/projectf/data/Training/Pokemon RubySapphireEmerald - Battle Tower.mid\n",
      "Parsing C:/Users/chinm/Documents/Courses/Sem3/NN/Project/projectf_final_zip/projectf/data/Training/Pokemon RubySapphireEmerald - Champion Battle.mid\n",
      "Parsing C:/Users/chinm/Documents/Courses/Sem3/NN/Project/projectf_final_zip/projectf/data/Training/Pokemon RubySapphireEmerald - Desert.mid\n",
      "Parsing C:/Users/chinm/Documents/Courses/Sem3/NN/Project/projectf_final_zip/projectf/data/Training/Pokemon RubySapphireEmerald - Dewford Town.mid\n",
      "Parsing C:/Users/chinm/Documents/Courses/Sem3/NN/Project/projectf_final_zip/projectf/data/Training/Pokemon RubySapphireEmerald - Elite 4 Battle.mid\n",
      "Parsing C:/Users/chinm/Documents/Courses/Sem3/NN/Project/projectf_final_zip/projectf/data/Training/Pokemon RubySapphireEmerald - Ending Theme.mid\n",
      "Parsing C:/Users/chinm/Documents/Courses/Sem3/NN/Project/projectf_final_zip/projectf/data/Training/Pokemon RubySapphireEmerald - Evergrande City.mid\n",
      "Parsing C:/Users/chinm/Documents/Courses/Sem3/NN/Project/projectf_final_zip/projectf/data/Training/Pokemon RubySapphireEmerald - Fallarbor Town.mid\n",
      "Parsing C:/Users/chinm/Documents/Courses/Sem3/NN/Project/projectf_final_zip/projectf/data/Training/Pokemon RubySapphireEmerald - Fortree City.mid\n",
      "Parsing C:/Users/chinm/Documents/Courses/Sem3/NN/Project/projectf_final_zip/projectf/data/Training/Pokemon RubySapphireEmerald - Heavy Rain.mid\n",
      "Parsing C:/Users/chinm/Documents/Courses/Sem3/NN/Project/projectf_final_zip/projectf/data/Training/Pokemon RubySapphireEmerald - Lilycove City.mid\n",
      "Parsing C:/Users/chinm/Documents/Courses/Sem3/NN/Project/projectf_final_zip/projectf/data/Training/Pokemon RubySapphireEmerald - Lilycove Museum.mid\n",
      "Parsing C:/Users/chinm/Documents/Courses/Sem3/NN/Project/projectf_final_zip/projectf/data/Training/Pokemon RubySapphireEmerald - Littleroot Town.mid\n",
      "Parsing C:/Users/chinm/Documents/Courses/Sem3/NN/Project/projectf_final_zip/projectf/data/Training/Pokemon RubySapphireEmerald - Mt Pyre Peak.mid\n",
      "Parsing C:/Users/chinm/Documents/Courses/Sem3/NN/Project/projectf_final_zip/projectf/data/Training/Pokemon RubySapphireEmerald - Mt Pyre.mid\n",
      "Parsing C:/Users/chinm/Documents/Courses/Sem3/NN/Project/projectf_final_zip/projectf/data/Training/Pokemon RubySapphireEmerald - Oceanic Museum.mid\n",
      "Parsing C:/Users/chinm/Documents/Courses/Sem3/NN/Project/projectf_final_zip/projectf/data/Training/Pokemon RubySapphireEmerald - Oldale Town.mid\n",
      "Parsing C:/Users/chinm/Documents/Courses/Sem3/NN/Project/projectf_final_zip/projectf/data/Training/Pokemon RubySapphireEmerald - Petalburg City.mid\n",
      "Parsing C:/Users/chinm/Documents/Courses/Sem3/NN/Project/projectf_final_zip/projectf/data/Training/Pokemon RubySapphireEmerald - Pokemart.mid\n",
      "Parsing C:/Users/chinm/Documents/Courses/Sem3/NN/Project/projectf_final_zip/projectf/data/Training/Pokemon RubySapphireEmerald - Pokemon Contest.mid\n"
     ]
    },
    {
     "name": "stdout",
     "output_type": "stream",
     "text": [
      "Parsing C:/Users/chinm/Documents/Courses/Sem3/NN/Project/projectf_final_zip/projectf/data/Training/Pokemon RubySapphireEmerald - Recovery.mid\n",
      "Parsing C:/Users/chinm/Documents/Courses/Sem3/NN/Project/projectf_final_zip/projectf/data/Training/Pokemon RubySapphireEmerald - Rival Battle.mid\n",
      "Parsing C:/Users/chinm/Documents/Courses/Sem3/NN/Project/projectf_final_zip/projectf/data/Training/Pokemon RubySapphireEmerald - Route 101.mid\n",
      "Parsing C:/Users/chinm/Documents/Courses/Sem3/NN/Project/projectf_final_zip/projectf/data/Training/Pokemon RubySapphireEmerald - Route 104.mid\n",
      "Parsing C:/Users/chinm/Documents/Courses/Sem3/NN/Project/projectf_final_zip/projectf/data/Training/Pokemon RubySapphireEmerald - Route 110.mid\n",
      "Parsing C:/Users/chinm/Documents/Courses/Sem3/NN/Project/projectf_final_zip/projectf/data/Training/Pokemon RubySapphireEmerald - Route 111 Desert.mid\n",
      "Parsing C:/Users/chinm/Documents/Courses/Sem3/NN/Project/projectf_final_zip/projectf/data/Training/Pokemon RubySapphireEmerald - Route 120.mid\n",
      "Parsing C:/Users/chinm/Documents/Courses/Sem3/NN/Project/projectf_final_zip/projectf/data/Training/Pokemon RubySapphireEmerald - Slateport City.mid\n",
      "Parsing C:/Users/chinm/Documents/Courses/Sem3/NN/Project/projectf_final_zip/projectf/data/Training/Pokemon RubySapphireEmerald - Sootopolis City.mid\n",
      "Parsing C:/Users/chinm/Documents/Courses/Sem3/NN/Project/projectf_final_zip/projectf/data/Training/Pokemon RubySapphireEmerald - Surfing.mid\n",
      "Parsing C:/Users/chinm/Documents/Courses/Sem3/NN/Project/projectf_final_zip/projectf/data/Training/Pokemon RubySapphireEmerald - Trainers School.mid\n",
      "Parsing C:/Users/chinm/Documents/Courses/Sem3/NN/Project/projectf_final_zip/projectf/data/Training/Pokemon RubySapphireEmerald - Trick House.mid\n",
      "Parsing C:/Users/chinm/Documents/Courses/Sem3/NN/Project/projectf_final_zip/projectf/data/Training/Pokemon RubySapphireEmerald - Verdanturf Town.mid\n",
      "Parsing C:/Users/chinm/Documents/Courses/Sem3/NN/Project/projectf_final_zip/projectf/data/Training/Pokemon RubySapphireEmerald - Wild Pokemon Battle.mid\n",
      "Parsing C:/Users/chinm/Documents/Courses/Sem3/NN/Project/projectf_final_zip/projectf/data/Training/Pokemon RubySapphireEmerald - Wild Pokemon Caught or Fainted.mid\n",
      "Parsing C:/Users/chinm/Documents/Courses/Sem3/NN/Project/projectf_final_zip/projectf/data/Training/Pokemon Snap - A Mysterious Sighting.mid\n",
      "Parsing C:/Users/chinm/Documents/Courses/Sem3/NN/Project/projectf_final_zip/projectf/data/Training/Pokemon Snap - Snapshot Lullaby.mid\n",
      "Parsing C:/Users/chinm/Documents/Courses/Sem3/NN/Project/projectf_final_zip/projectf/data/Training/Pokemon Trading Card Game - Title Screen.mid\n",
      "Parsing C:/Users/chinm/Documents/Courses/Sem3/NN/Project/projectf_final_zip/projectf/data/Training/Pokemon X and Y - Calem and Serena.mid\n",
      "Parsing C:/Users/chinm/Documents/Courses/Sem3/NN/Project/projectf_final_zip/projectf/data/Training/Pokemon XD Gale of Darkness - Mt Battle Lobby.mid\n",
      "Parsing C:/Users/chinm/Documents/Courses/Sem3/NN/Project/projectf_final_zip/projectf/data/Training/Pokemon XD Gale of Darkness - The Hexagon Bros.mid\n",
      "Parsing C:/Users/chinm/Documents/Courses/Sem3/NN/Project/projectf_final_zip/projectf/data/Training/Pokemon XY - Battle Wild Pokemon.mid\n",
      "Parsing C:/Users/chinm/Documents/Courses/Sem3/NN/Project/projectf_final_zip/projectf/data/Training/Pokemon XY - Bicycle.mid\n",
      "Parsing C:/Users/chinm/Documents/Courses/Sem3/NN/Project/projectf_final_zip/projectf/data/Training/Pokemon XY - Emmas Theme.mid\n",
      "Parsing C:/Users/chinm/Documents/Courses/Sem3/NN/Project/projectf_final_zip/projectf/data/Training/Pokemon XY - FIN.mid\n",
      "Parsing C:/Users/chinm/Documents/Courses/Sem3/NN/Project/projectf_final_zip/projectf/data/Training/Pokemon XY - Route 4567.mid\n",
      "Parsing C:/Users/chinm/Documents/Courses/Sem3/NN/Project/projectf_final_zip/projectf/data/Training/Pokemon XY - The Sycamore Pokemon Lab.mid\n",
      "Parsing C:/Users/chinm/Documents/Courses/Sem3/NN/Project/projectf_final_zip/projectf/data/Training/Pokemon XY - Together with Shauna.mid\n",
      "Parsing C:/Users/chinm/Documents/Courses/Sem3/NN/Project/projectf_final_zip/projectf/data/Training/Pokemon Yellow - Lavender Town (Fixed).mid\n"
     ]
    },
    {
     "data": {
      "text/plain": [
       "497"
      ]
     },
     "execution_count": 4,
     "metadata": {},
     "output_type": "execute_result"
    }
   ],
   "source": [
    "notes = []\n",
    "for idx, file in enumerate(training_files, 1):\n",
    "    midi = converter.parse(file)\n",
    "\n",
    "    print(\"Parsing %s\" % file)\n",
    "\n",
    "    notes_to_parse = None\n",
    "\n",
    "    try: # file has instrument parts\n",
    "        s2 = instrument.partitionByInstrument(midi)\n",
    "        notes_to_parse = s2.parts[0].recurse() \n",
    "    except: # file has notes in a flat structure\n",
    "        notes_to_parse = midi.flat.notes\n",
    "\n",
    "    for element in notes_to_parse:\n",
    "        if isinstance(element, note.Note):\n",
    "            notes.append(str(element.pitch))\n",
    "        elif isinstance(element, chord.Chord):\n",
    "            notes.append('.'.join(str(n) for n in element.normalOrder))\n",
    "len(set(notes))"
   ]
  },
  {
   "cell_type": "code",
   "execution_count": 5,
   "metadata": {
    "colab": {},
    "colab_type": "code",
    "id": "8Hhb7LDEmWj2"
   },
   "outputs": [
    {
     "name": "stdout",
     "output_type": "stream",
     "text": [
      "497\n"
     ]
    }
   ],
   "source": [
    "n_notes = len(set(notes))\n",
    "print(n_notes)"
   ]
  },
  {
   "cell_type": "markdown",
   "metadata": {
    "colab_type": "text",
    "id": "PIYGKr4TNuke"
   },
   "source": [
    "# Saving Preprocessed MIDI files"
   ]
  },
  {
   "cell_type": "code",
   "execution_count": 6,
   "metadata": {
    "colab": {},
    "colab_type": "code",
    "id": "hHU1Xiv3O-JW"
   },
   "outputs": [],
   "source": [
    "with open(base_path + preprocessed_file_path + \"preprocessed_midifiles\", \"wb\") as file_obj:\n",
    "    pickle.dump(notes, file_obj)"
   ]
  },
  {
   "cell_type": "markdown",
   "metadata": {
    "colab_type": "text",
    "id": "Oeu68aTQTSoe"
   },
   "source": [
    "# Read saved preprocessed file"
   ]
  },
  {
   "cell_type": "code",
   "execution_count": 7,
   "metadata": {
    "colab": {},
    "colab_type": "code",
    "id": "8pk3BH-kTR7f"
   },
   "outputs": [
    {
     "name": "stdout",
     "output_type": "stream",
     "text": [
      "497\n"
     ]
    }
   ],
   "source": [
    "notes = pickle.load(open(base_path + preprocessed_file_path + \"preprocessed_midifiles\", \"rb\"))\n",
    "n_notes= len(set(notes))\n",
    "print(n_notes)"
   ]
  },
  {
   "cell_type": "markdown",
   "metadata": {
    "colab_type": "text",
    "id": "yCWNpClMO_hl"
   },
   "source": [
    "# Get unique pitch names for all notes"
   ]
  },
  {
   "cell_type": "code",
   "execution_count": 8,
   "metadata": {
    "colab": {
     "base_uri": "https://localhost:8080/",
     "height": 34
    },
    "colab_type": "code",
    "id": "ZiLPRhsNNBce",
    "outputId": "28314ec7-cf6a-4ff1-a3ac-3979afad43ef"
   },
   "outputs": [
    {
     "data": {
      "text/plain": [
       "497"
      ]
     },
     "execution_count": 8,
     "metadata": {},
     "output_type": "execute_result"
    }
   ],
   "source": [
    "pitch_names = sorted(set([item for item in notes]))\n",
    "\n",
    "len(pitch_names)"
   ]
  },
  {
   "cell_type": "code",
   "execution_count": 9,
   "metadata": {
    "colab": {},
    "colab_type": "code",
    "id": "Lr3avu7aQ96H"
   },
   "outputs": [],
   "source": [
    "note_to_int = dict((note, number) for number, note in enumerate(pitch_names))"
   ]
  },
  {
   "cell_type": "code",
   "execution_count": 10,
   "metadata": {},
   "outputs": [
    {
     "data": {
      "text/plain": [
       "163685"
      ]
     },
     "execution_count": 10,
     "metadata": {},
     "output_type": "execute_result"
    }
   ],
   "source": [
    "len(notes)"
   ]
  },
  {
   "cell_type": "markdown",
   "metadata": {
    "colab_type": "text",
    "id": "CYQTw1nORQel"
   },
   "source": [
    "# Prepare input for NN Models"
   ]
  },
  {
   "cell_type": "code",
   "execution_count": 11,
   "metadata": {
    "colab": {},
    "colab_type": "code",
    "id": "FcCHbww9REP1"
   },
   "outputs": [],
   "source": [
    "network_input_list = []\n",
    "network_output_list = []\n",
    "sequence_length = 100"
   ]
  },
  {
   "cell_type": "code",
   "execution_count": 12,
   "metadata": {
    "colab": {},
    "colab_type": "code",
    "id": "IUaxEj_dRUnF"
   },
   "outputs": [],
   "source": [
    "for i in range(0, len(notes) - sequence_length, 1):\n",
    "    sequence_in = notes[i:i + sequence_length]\n",
    "    sequence_out = notes[i + sequence_length]\n",
    "    network_input_list.append([note_to_int[char] for char in sequence_in])\n",
    "    network_output_list.append(note_to_int[sequence_out])\n",
    "n_patterns = len(network_input_list)"
   ]
  },
  {
   "cell_type": "code",
   "execution_count": 13,
   "metadata": {
    "colab": {
     "base_uri": "https://localhost:8080/",
     "height": 34
    },
    "colab_type": "code",
    "id": "cGJ9Jfg2R0nP",
    "outputId": "c06d4f54-f9ed-4e78-9200-f0b8676906b6"
   },
   "outputs": [
    {
     "data": {
      "text/plain": [
       "((163585, 100, 1), (163585, 497))"
      ]
     },
     "execution_count": 13,
     "metadata": {},
     "output_type": "execute_result"
    }
   ],
   "source": [
    "network_input = np.reshape(network_input_list, (n_patterns, sequence_length, 1))\n",
    "network_input = network_input/float(n_notes)\n",
    "\n",
    "network_output = np_utils.to_categorical(network_output_list)\n",
    "\n",
    "network_input.shape, network_output.shape"
   ]
  },
  {
   "cell_type": "markdown",
   "metadata": {
    "colab_type": "text",
    "id": "uxRH_w_rby04"
   },
   "source": [
    "# Building Baseline model"
   ]
  },
  {
   "cell_type": "code",
   "execution_count": 15,
   "metadata": {
    "colab": {},
    "colab_type": "code",
    "id": "9TnXEKS5j49H"
   },
   "outputs": [],
   "source": [
    "from keras.models import Sequential, model_from_json\n",
    "from keras.layers import Input, Dropout, LSTM, Dense, Activation\n",
    "from keras.layers import BatchNormalization as BatchNorm\n",
    "from keras.callbacks import ModelCheckpoint"
   ]
  },
  {
   "cell_type": "code",
   "execution_count": 16,
   "metadata": {
    "colab": {},
    "colab_type": "code",
    "id": "Ga7RCAM-bxDj"
   },
   "outputs": [],
   "source": [
    "def create_network(network_input, n_notes):\n",
    "    \"\"\" create the structure of the neural network \"\"\"\n",
    "    model = Sequential()\n",
    "    model.add(LSTM(\n",
    "        512,\n",
    "        input_shape=(network_input.shape[1], network_input.shape[2]),\n",
    "        recurrent_dropout=0.3,\n",
    "        return_sequences=True\n",
    "    ))\n",
    "    model.add(LSTM(512, return_sequences=True, recurrent_dropout=0.3,))\n",
    "    model.add(LSTM(512))\n",
    "    model.add(BatchNorm())\n",
    "    model.add(Dropout(0.3))\n",
    "    model.add(Dense(256))\n",
    "    model.add(Activation('relu'))\n",
    "    model.add(BatchNorm())\n",
    "    model.add(Dropout(0.3))\n",
    "    model.add(Dense(n_notes))\n",
    "    model.add(Activation('softmax'))\n",
    "    model.compile(loss='categorical_crossentropy', optimizer='rmsprop')\n",
    "\n",
    "    return model"
   ]
  },
  {
   "cell_type": "code",
   "execution_count": 17,
   "metadata": {
    "colab": {
     "base_uri": "https://localhost:8080/",
     "height": 1000
    },
    "colab_type": "code",
    "id": "frNdjPyGpWlF",
    "outputId": "a7c66976-6300-489e-e9f7-a4f94787864e"
   },
   "outputs": [
    {
     "name": "stdout",
     "output_type": "stream",
     "text": [
      "WARNING:tensorflow:From C:\\Users\\chinm\\Anaconda\\lib\\site-packages\\tensorflow\\python\\framework\\op_def_library.py:263: colocate_with (from tensorflow.python.framework.ops) is deprecated and will be removed in a future version.\n",
      "Instructions for updating:\n",
      "Colocations handled automatically by placer.\n",
      "WARNING:tensorflow:From C:\\Users\\chinm\\Anaconda\\lib\\site-packages\\keras\\backend\\tensorflow_backend.py:3445: calling dropout (from tensorflow.python.ops.nn_ops) with keep_prob is deprecated and will be removed in a future version.\n",
      "Instructions for updating:\n",
      "Please use `rate` instead of `keep_prob`. Rate should be set to `rate = 1 - keep_prob`.\n",
      "_________________________________________________________________\n",
      "Layer (type)                 Output Shape              Param #   \n",
      "=================================================================\n",
      "lstm_1 (LSTM)                (None, 100, 512)          1052672   \n",
      "_________________________________________________________________\n",
      "lstm_2 (LSTM)                (None, 100, 512)          2099200   \n",
      "_________________________________________________________________\n",
      "lstm_3 (LSTM)                (None, 512)               2099200   \n",
      "_________________________________________________________________\n",
      "batch_normalization_1 (Batch (None, 512)               2048      \n",
      "_________________________________________________________________\n",
      "dropout_1 (Dropout)          (None, 512)               0         \n",
      "_________________________________________________________________\n",
      "dense_1 (Dense)              (None, 256)               131328    \n",
      "_________________________________________________________________\n",
      "activation_1 (Activation)    (None, 256)               0         \n",
      "_________________________________________________________________\n",
      "batch_normalization_2 (Batch (None, 256)               1024      \n",
      "_________________________________________________________________\n",
      "dropout_2 (Dropout)          (None, 256)               0         \n",
      "_________________________________________________________________\n",
      "dense_2 (Dense)              (None, 497)               127729    \n",
      "_________________________________________________________________\n",
      "activation_2 (Activation)    (None, 497)               0         \n",
      "=================================================================\n",
      "Total params: 5,513,201\n",
      "Trainable params: 5,511,665\n",
      "Non-trainable params: 1,536\n",
      "_________________________________________________________________\n"
     ]
    }
   ],
   "source": [
    "model = create_network(network_input, n_notes)\n",
    "model.summary()"
   ]
  },
  {
   "cell_type": "markdown",
   "metadata": {
    "colab_type": "text",
    "id": "hxZl7sk3pKT4"
   },
   "source": [
    "# Training Baseline Model"
   ]
  },
  {
   "cell_type": "code",
   "execution_count": 18,
   "metadata": {
    "colab": {
     "base_uri": "https://localhost:8080/",
     "height": 85
    },
    "colab_type": "code",
    "id": "d4a6PylMrNAw",
    "outputId": "ead7dc98-b8b1-4752-c741-8916be01c9d4"
   },
   "outputs": [
    {
     "name": "stdout",
     "output_type": "stream",
     "text": [
      "WARNING:tensorflow:From C:\\Users\\chinm\\Anaconda\\lib\\site-packages\\tensorflow\\python\\ops\\math_ops.py:3066: to_int32 (from tensorflow.python.ops.math_ops) is deprecated and will be removed in a future version.\n",
      "Instructions for updating:\n",
      "Use tf.cast instead.\n",
      "Epoch 1/5\n",
      "100/100 [==============================] - 9s 94ms/step - loss: 6.5301\n",
      "Epoch 2/5\n",
      "100/100 [==============================] - 5s 52ms/step - loss: 6.3306\n",
      "Epoch 3/5\n",
      "100/100 [==============================] - 6s 56ms/step - loss: 6.7433\n",
      "Epoch 4/5\n",
      "100/100 [==============================] - 6s 62ms/step - loss: 6.5717\n",
      "Epoch 5/5\n",
      "100/100 [==============================] - 6s 62ms/step - loss: 6.5699\n"
     ]
    }
   ],
   "source": [
    "history = model.fit(network_input, network_output, epochs=5, batch_size=128)"
   ]
  },
  {
   "cell_type": "markdown",
   "metadata": {
    "colab_type": "text",
    "id": "lD3RcBAQpPSy"
   },
   "source": [
    "# Generating Musical Notes from Trained Model"
   ]
  },
  {
   "cell_type": "code",
   "execution_count": 19,
   "metadata": {
    "colab": {},
    "colab_type": "code",
    "id": "7AI5lrRUpOQn"
   },
   "outputs": [],
   "source": [
    "def generate_notes(model, network_input, n_vocab):\n",
    "    \"\"\" Generate notes from the neural network based on a sequence of notes \"\"\"\n",
    "    # pick a random sequence from the input as a starting point for the prediction\n",
    "    start = np.random.randint(0, len(network_input)-1)\n",
    "    \n",
    "    # Get pitch names and store in a dictionary\n",
    "    pitchnames = sorted(set(item for item in notes))\n",
    "    int_to_note = dict((number, note) for number, note in enumerate(pitchnames))\n",
    "\n",
    "    pattern = network_input[start]\n",
    "    prediction_output = []\n",
    "\n",
    "    # generate 500 notes\n",
    "    for note_index in range(500):\n",
    "        prediction_input = np.reshape(pattern, (1, len(pattern), 1))\n",
    "        prediction_input = prediction_input / float(n_vocab)\n",
    "\n",
    "        prediction = model.predict(prediction_input, verbose=0)\n",
    "\n",
    "        index = np.argmax(prediction)\n",
    "        result = int_to_note[index]\n",
    "        prediction_output.append(result)\n",
    "        \n",
    "        pattern = np.append(pattern,index)\n",
    "        #pattern.append(index)\n",
    "        pattern = pattern[1:len(pattern)]\n",
    "\n",
    "    return prediction_output"
   ]
  },
  {
   "cell_type": "code",
   "execution_count": 20,
   "metadata": {
    "colab": {
     "base_uri": "https://localhost:8080/",
     "height": 439
    },
    "colab_type": "code",
    "id": "7o2PwfxMqIlu",
    "outputId": "6481c45b-2029-4fd4-cdfb-d9e85d2626ce"
   },
   "outputs": [],
   "source": [
    "prediction_output = generate_notes(model, network_input_list, n_notes)"
   ]
  },
  {
   "cell_type": "markdown",
   "metadata": {
    "colab_type": "text",
    "id": "SrnjuFbwpNPO"
   },
   "source": [
    "# Creating Midi Files from Output Notes"
   ]
  },
  {
   "cell_type": "code",
   "execution_count": 21,
   "metadata": {
    "colab": {},
    "colab_type": "code",
    "id": "kwhU1IgNpmOT"
   },
   "outputs": [],
   "source": [
    "def create_midi(prediction_output, filename):\n",
    "    \"\"\" convert the output from the prediction to notes and create a midi file\n",
    "        from the notes \"\"\"\n",
    "    offset = 0\n",
    "    output_notes = []\n",
    "\n",
    "    # create note and chord objects based on the values generated by the model\n",
    "    for item in prediction_output:\n",
    "        pattern = item[0]\n",
    "        # pattern is a chord\n",
    "        if ('.' in pattern) or pattern.isdigit():\n",
    "            notes_in_chord = pattern.split('.')\n",
    "            notes = []\n",
    "            for current_note in notes_in_chord:\n",
    "                new_note = note.Note(int(current_note))\n",
    "                new_note.storedInstrument = instrument.Piano()\n",
    "                notes.append(new_note)\n",
    "            new_chord = chord.Chord(notes)\n",
    "            new_chord.offset = offset\n",
    "            output_notes.append(new_chord)\n",
    "        # pattern is a note\n",
    "        else:\n",
    "            new_note = note.Note(pattern)\n",
    "            new_note.offset = offset\n",
    "            new_note.storedInstrument = instrument.Piano()\n",
    "            output_notes.append(new_note)\n",
    "\n",
    "        # increase offset each iteration so that notes do not stack\n",
    "        offset += 0.5\n",
    "\n",
    "    midi_stream = stream.Stream(output_notes)\n",
    "    midi_stream.write('midi', fp='{}{}.mid'.format(base_path + output_base_path + baseline_model_result, filename))"
   ]
  },
  {
   "cell_type": "code",
   "execution_count": 22,
   "metadata": {
    "colab": {},
    "colab_type": "code",
    "id": "Nzx9qrq7wiIP"
   },
   "outputs": [],
   "source": [
    "create_midi(prediction_output, \"lstm_baseline\")"
   ]
  },
  {
   "cell_type": "code",
   "execution_count": 23,
   "metadata": {},
   "outputs": [
    {
     "name": "stdout",
     "output_type": "stream",
     "text": [
      "Saved model to disk\n"
     ]
    }
   ],
   "source": [
    "# Save Model\n",
    "\n",
    "model_json = model.to_json()\n",
    "with open(base_path + base_model_path + baseline_model_result + \"lstm_baseline.json\", \"w\") as json_file:\n",
    "    json_file.write(model_json)\n",
    "# serialize weights to HDF5\n",
    "model.save_weights(base_path + base_model_path + baseline_model_result + \"lstm_baseline.h5\")\n",
    "print(\"Saved model to disk\")\n"
   ]
  },
  {
   "cell_type": "code",
   "execution_count": 24,
   "metadata": {},
   "outputs": [
    {
     "name": "stdout",
     "output_type": "stream",
     "text": [
      "Loaded model from disk\n"
     ]
    }
   ],
   "source": [
    "# Load Model\n",
    "\n",
    "# load json and create model\n",
    "json_file = open(base_path + base_model_path + baseline_model_result + \"lstm_baseline.json\", 'r')\n",
    "loaded_model_json = json_file.read()\n",
    "json_file.close()\n",
    "\n",
    "loaded_model = model_from_json(loaded_model_json)\n",
    "# load weights into new model\n",
    "loaded_model.load_weights(base_path + base_model_path + baseline_model_result + \"lstm_baseline.h5\")\n",
    "print(\"Loaded model from disk\")"
   ]
  },
  {
   "cell_type": "code",
   "execution_count": null,
   "metadata": {},
   "outputs": [],
   "source": []
  }
 ],
 "metadata": {
  "accelerator": "GPU",
  "colab": {
   "collapsed_sections": [],
   "name": "projectF.ipynb",
   "provenance": []
  },
  "kernelspec": {
   "display_name": "Python 3",
   "language": "python",
   "name": "python3"
  },
  "language_info": {
   "codemirror_mode": {
    "name": "ipython",
    "version": 3
   },
   "file_extension": ".py",
   "mimetype": "text/x-python",
   "name": "python",
   "nbconvert_exporter": "python",
   "pygments_lexer": "ipython3",
   "version": "3.7.3"
  }
 },
 "nbformat": 4,
 "nbformat_minor": 1
}
